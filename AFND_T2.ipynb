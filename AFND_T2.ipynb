{
 "cells": [
  {
   "cell_type": "markdown",
   "id": "7f21a784",
   "metadata": {},
   "source": [
    "Implementação de um algorítimo que simula um AFND em java.\n",
    "De entrada temos as variáveis de estado (condition) e alfabeto (alphabet). Foi criada a classe Vector para armazenar o estado do automato e a palavra a ser consumida."
   ]
  },
  {
   "cell_type": "code",
   "execution_count": null,
   "id": "5b1d2532",
   "metadata": {},
   "outputs": [],
   "source": [
    "class Vector {  \n",
    "     \n",
    "     String condition;\n",
    "     String word;    \n",
    "}"
   ]
  },
  {
   "cell_type": "markdown",
   "id": "ae8ba1fe",
   "metadata": {},
   "source": [
    "A seguir foram armazenados os valores das transições em uma tanela, onde as chaves (key) correspondem ao estado (state) do automato em conjunto com a palavra a ser consumida."
   ]
  },
  {
   "cell_type": "code",
   "execution_count": null,
   "id": "f323d9dd",
   "metadata": {},
   "outputs": [],
   "source": [
    "HashMap <String,ArrayList<String>>dictionary= new HashMap <>();\n",
    "      Stack<Vector> stack = new Stack<Vector>();     \n",
    "      HashMap<String, Integer> finals= new HashMap <>();\n",
    "     \n",
    "       Scanner e= new Scanner (System.in);\n",
    "       \n",
    "       String[]  ocd;\n",
    "       String initial_state;\n",
    "       String final_state;\n",
    "       String[] final_state_2;     \n",
    "       String[] words;\n",
    "       String triple;\n",
    "       String state;\n",
    "       String alphabet;\n",
    "       String key;\n",
    "       int t,z,y=0;\n",
    "       boolean contem;\n",
    "       state=e.nextLine();\n",
    "       alphabet=e.nextLine();\n",
    "       t=Integer.parseInt(e.nextLine());"
   ]
  },
  {
   "cell_type": "markdown",
   "id": "558d74e3",
   "metadata": {},
   "source": [
    "O valor correlacionado à chave é um array com os estados de destino. Temos como entrada os estados finais (final_state) e iniciais (initial_state).\n",
    "Todos os estados finais são armazenados em uma tabela Hash (final_state_2). "
   ]
  },
  {
   "cell_type": "code",
   "execution_count": null,
   "id": "d509c8d6",
   "metadata": {},
   "outputs": [],
   "source": [
    "while(y<t){     \n",
    "       z=0;   \n",
    "           \n",
    "       triple=e.nextLine();\n",
    "       ocd=triple.split(\" \");\n",
    "       key=(ocd[z].concat(ocd[z+1]));\n",
    "       if (!dictionary.containsKey(key)){\n",
    "          ArrayList<String> condition = new ArrayList<>();\n",
    "          condition.add(ocd[z+2]);\n",
    "          dictionary.put(key,condition);\n",
    "       }else {\n",
    "          dictionary.get(key).add(ocd[z+2]);\n",
    "       }\n",
    "       y++; \n",
    "      }\n",
    "      \n",
    " initial_state=e.nextLine();\n",
    " final_state=e.nextLine();\n",
    " final_state_2=final_state.split(\" \");\n",
    "\n",
    "for(int i=0;i<final_state_2.length;i++){  \n",
    "   finals.put(final_state_2[i], i);\n",
    "}"
   ]
  },
  {
   "cell_type": "markdown",
   "id": "cbec1908",
   "metadata": {},
   "source": [
    "Codigo responsável pela entrada das palavras(word)"
   ]
  },
  {
   "cell_type": "code",
   "execution_count": null,
   "id": "a6735502",
   "metadata": {},
   "outputs": [],
   "source": [
    "String word;\n",
    " word=e.nextLine();\n",
    " words=word.split(\" \");"
   ]
  },
  {
   "cell_type": "markdown",
   "id": "8e877c83",
   "metadata": {},
   "source": [
    "Cada palavra é verificada e um vector é criado armazenando o estado atual do automato e o restante da palavra, esse vector é guardado em pilha.\n"
   ]
  },
  {
   "cell_type": "code",
   "execution_count": null,
   "id": "c8fd6800",
   "metadata": {},
   "outputs": [],
   "source": [
    "Vector a;   \n",
    " String p;\n",
    " \n",
    " for(int j=0;j<words.length;j++){ \n",
    "   Vector vector=new Vector();\n",
    "   vector.condition=initial_state;   \n",
    "   vector.word= words[j];\n",
    "   stack.add(vector);                 "
   ]
  },
  {
   "cell_type": "markdown",
   "id": "1e478b34",
   "metadata": {},
   "source": [
    "Iniciando com falso, a pilha estiver cheia o algoritimo pega o primeiro da fila e confere a palavra (se foi consumida e se o estado final está na tabela final_state_2) se sim a pilha é esvaziada, se não ele pega o restante da palavra, confere no dicionário, pega o estado e coloca com a palavra na pilha e verifica esta novamente"
   ]
  },
  {
   "cell_type": "code",
   "execution_count": null,
   "id": "307659e3",
   "metadata": {},
   "outputs": [],
   "source": [
    "contem=false;                 \n",
    "   \n",
    "   while (stack.size()>0){    \n",
    "       \n",
    "       a=stack.pop();             \n",
    "       \n",
    "       \n",
    "       if(a.word.length()==0){                    \n",
    "           if(finals.containsKey(a.condition)){\n",
    "               contem=true;                                  \n",
    "               stack.clear();\n",
    "           }\n",
    "              \n",
    "           \n",
    "       }else{                                                 \n",
    "        \n",
    "             \n",
    "     p=a.word.substring(1, a.word.length());         \n",
    "     String cha=(a.condition.concat(a.word.substring(0, 1)));   \n",
    "     if(dictionary.containsKey(cha)){                       \n",
    "                     \n",
    "         for(String u : dictionary.get(cha)) {                \n",
    "             Vector vector1=new Vector();\n",
    "             vector1.condition=u;\n",
    "             vector1.word=p;\n",
    "             stack.push(vector1);     \n",
    "                                          \n",
    "}"
   ]
  },
  {
   "cell_type": "markdown",
   "id": "e70fcee3",
   "metadata": {},
   "source": [
    "Se o automato reconhece a palavra após passar pela etapa anterior imprime S, se não, imprime N"
   ]
  },
  {
   "cell_type": "code",
   "execution_count": null,
   "id": "0b94dfe4",
   "metadata": {},
   "outputs": [],
   "source": [
    "if(contem){\n",
    "       System.out.println(\"S\");\n",
    "       \n",
    "   }else {\n",
    "       System.out.println(\"N\");\n",
    "   }"
   ]
  }
 ],
 "metadata": {
  "kernelspec": {
   "display_name": "Python 3 (ipykernel)",
   "language": "python",
   "name": "python3"
  },
  "language_info": {
   "codemirror_mode": {
    "name": "ipython",
    "version": 3
   },
   "file_extension": ".py",
   "mimetype": "text/x-python",
   "name": "python",
   "nbconvert_exporter": "python",
   "pygments_lexer": "ipython3",
   "version": "3.9.7"
  }
 },
 "nbformat": 4,
 "nbformat_minor": 5
}
